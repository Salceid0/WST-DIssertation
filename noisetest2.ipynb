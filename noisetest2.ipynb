{
 "cells": [
  {
   "cell_type": "code",
   "execution_count": null,
   "id": "96aa41d9",
   "metadata": {},
   "outputs": [],
   "source": [
    "\n",
    "import torch\n",
    "import torch.nn as nn\n",
    "import torch.nn.functional as F\n",
    "import torch.optim as optim\n",
    "from torch.utils.data import Dataset, DataLoader\n",
    "\n",
    "import torchvision\n",
    "import torchvision.transforms as transforms\n",
    "from torchvision.utils import save_image\n",
    "from torchsummary import summary\n",
    "\n",
    "import matplotlib.pyplot as plt\n",
    "import numpy as np\n",
    "import os\n",
    "import time\n",
    "from tqdm import tqdm\n",
    "\n",
    "import nibabel as nib\n",
    "from scipy.fftpack import fft, ifft, fft2, ifft2, fftshift, ifftshift\n",
    "import PIL.Image\n",
    "import pickle\n"
   ]
  },
  {
   "cell_type": "code",
   "execution_count": null,
   "id": "ee53138a",
   "metadata": {},
   "outputs": [],
   "source": [
    "#As in the paper N2N\n",
    "def load_pkl(filename):\n",
    "    with open(filename, 'rb') as file:\n",
    "        return pickle.load(file)\n",
    "def fftshift2d(x, ifft=False):\n",
    "    assert (len(x.shape) == 2) and all([(s % 2 == 1) for s in x.shape])\n",
    "    s0 = (x.shape[0] // 2) + (0 if ifft else 1)\n",
    "    s1 = (x.shape[1] // 2) + (0 if ifft else 1)\n",
    "    x = np.concatenate([x[s0:, :], x[:s0, :]], axis=0)\n",
    "    x = np.concatenate([x[:, s1:], x[:, :s1]], axis=1)\n",
    "    return x"
   ]
  },
  {
   "cell_type": "code",
   "execution_count": null,
   "id": "6f2b6d58",
   "metadata": {},
   "outputs": [],
   "source": [
    "# ruta = \"C:/Users/javit/Desktop/MRI datasets/datasets/ixi_train-001.pkl\"\n",
    "# ruta_test = \"C:/Users/javit/Desktop/MRI datasets/datasets/ixi_valid.pkl\"\n",
    "ruta = \"C:/Users/javit/Desktop/N2N/datasets/ixi_train.pkl\"\n",
    "ruta_test = \"C:/Users/javit/Desktop/N2N/datasets/ixi_valid.pkl\"\n",
    "img, spec = load_pkl(ruta)\n",
    "img=img[:,:-1,:-1] #images are now 255,255\n",
    "img = img.astype(np.float32) / 255.0 - 0.5 # normalize and make sure they are in range [-.5,.5]\n",
    "test_img, test_spec = load_pkl(ruta_test)\n",
    "test_img=test_img[:,:-1,:-1]\n",
    "test_img=test_img.astype(np.float32) / 255.0 - 0.5\n",
    "\n",
    "\n",
    "p_at_edge=0.025\n",
    "h = [s // 2 for s in (255,255)] #255\n",
    "r = [np.arange(s, dtype=np.float32) - h for s, h in zip((255,255), h)]\n",
    "r = [x ** 2 for x in r]\n",
    "r = (r[0][:, np.newaxis] + r[1][np.newaxis, :]) ** .5\n",
    "m = (p_at_edge ** (1./h[1])) ** r\n",
    "bern_mask = m"
   ]
  },
  {
   "cell_type": "code",
   "execution_count": null,
   "id": "4decb536",
   "metadata": {},
   "outputs": [],
   "source": [
    "def corrupt_data(img, spec):\n",
    "    global bern_mask\n",
    "    mask = bern_mask\n",
    "    # print('Bernoulli probability at edge = %.5f' % mask[h[0], 0])\n",
    "    # print('Average Bernoulli probability = %.5f' % np.mean(mask))\n",
    "    keep = (np.random.uniform(0.0, 1.0, size=spec.shape)**2 < mask)\n",
    "    keep = keep & keep[::-1, ::-1]\n",
    "    sval = spec * keep\n",
    "    smsk = keep.astype(np.float32)\n",
    "    spec = fftshift2d(sval / (mask + ~keep), ifft=True) # Add 1.0 to not-kept values to prevent div-by-zero.\n",
    "    img = np.real(np.fft.ifft2(spec)).astype(np.float32)\n",
    "    return img, sval, smsk"
   ]
  },
  {
   "cell_type": "code",
   "execution_count": null,
   "id": "666ca5ad",
   "metadata": {},
   "outputs": [],
   "source": [
    "corr_img=np.zeros(img.shape)\n",
    "corr_val=np.zeros(img.shape).astype(np.complex64)\n",
    "corr_mask=np.zeros(img.shape)\n",
    "psnr=np.zeros(img.shape[0])\n",
    "for i in range(len(img)):\n",
    "    corr_img[i],corr_val[i],corr_mask[i]= corrupt_data(img[i],spec[i])\n",
    "    psnr[i]=10*np.log10(1/np.mean((img[i]-corr_img[i])**2))\n",
    "print(psnr.mean())\n",
    "    "
   ]
  },
  {
   "cell_type": "code",
   "execution_count": null,
   "id": "3df673ee",
   "metadata": {},
   "outputs": [],
   "source": [
    "plt.imshow(corr_img[123],cmap='gray')\n",
    "plt.axis(\"off\")\n",
    "plt.show"
   ]
  },
  {
   "cell_type": "code",
   "execution_count": null,
   "id": "64140e28",
   "metadata": {},
   "outputs": [],
   "source": [
    "plt.imshow(corr_img[123].clip(-0.5,0.5),cmap=\"gray\")\n",
    "plt.axis(\"off\")\n",
    "plt.show()"
   ]
  },
  {
   "cell_type": "code",
   "execution_count": null,
   "id": "97a6471b",
   "metadata": {},
   "outputs": [],
   "source": [
    "plt.imshow(img[123],cmap='gray')\n",
    "plt.axis(\"off\")"
   ]
  },
  {
   "cell_type": "code",
   "execution_count": null,
   "id": "7f100df0",
   "metadata": {},
   "outputs": [],
   "source": [
    "from kymatio import Scattering2D"
   ]
  },
  {
   "cell_type": "code",
   "execution_count": null,
   "id": "9c0dfc1b",
   "metadata": {},
   "outputs": [],
   "source": [
    "scattering=Scattering2D(J=1,L=8,shape=(255,255))"
   ]
  },
  {
   "cell_type": "code",
   "execution_count": null,
   "id": "eec5f83a",
   "metadata": {},
   "outputs": [],
   "source": [
    "corr_coefs=scattering(corr_img[123].clip(-0.5,0.5))"
   ]
  },
  {
   "cell_type": "code",
   "execution_count": null,
   "id": "b12420a7",
   "metadata": {},
   "outputs": [],
   "source": [
    "coefs=scattering(img[123])"
   ]
  },
  {
   "cell_type": "code",
   "execution_count": null,
   "id": "bf57b4ad",
   "metadata": {},
   "outputs": [],
   "source": [
    "plt.figure()\n",
    "for i in range(9):\n",
    "    if i==0:\n",
    "        plt.imshow(coefs[i],cmap='gray')\n",
    "        plt.title(\"Low Pass\")\n",
    "        plt.axis(\"off\")\n",
    "    else:\n",
    "        plt.figure()\n",
    "        plt.imshow(coefs[i],cmap='gray')\n",
    "        plt.title(\"θ = \"+str(i))\n",
    "        plt.axis(\"off\")"
   ]
  },
  {
   "cell_type": "code",
   "execution_count": null,
   "id": "b095c1f8",
   "metadata": {},
   "outputs": [],
   "source": [
    "corr_coefs=scattering(corr_img[123].clip(-0.5,0.5))"
   ]
  },
  {
   "cell_type": "code",
   "execution_count": null,
   "id": "1a20b385",
   "metadata": {},
   "outputs": [],
   "source": [
    "plt.figure()\n",
    "for i in range(9):\n",
    "    if i==0:\n",
    "        plt.imshow(corr_coefs[i],cmap='gray')\n",
    "        plt.title(\"Low Pass\")\n",
    "        plt.axis(\"off\")\n",
    "    else:\n",
    "        plt.figure()\n",
    "        plt.imshow(corr_coefs[i],cmap='gray')\n",
    "        plt.title(\"θ = \"+str(i))\n",
    "        plt.axis(\"off\")"
   ]
  },
  {
   "cell_type": "code",
   "execution_count": null,
   "id": "97c37485",
   "metadata": {},
   "outputs": [],
   "source": [
    "\n",
    "\n",
    "n_cols = 9\n",
    "\n",
    "fig, axes = plt.subplots(2, n_cols, figsize=(2*n_cols, 4))\n",
    "\n",
    "for i in range(n_cols):\n",
    "    # Fila superior\n",
    "    axes[0, i].imshow(coefs[i], cmap='gray')\n",
    "    axes[0, i].axis('off')\n",
    "    # Agrega títulos sólo arriba\n",
    "    if i == 0:\n",
    "        axes[0, i].set_title(\"Low Pass\")\n",
    "    else:\n",
    "        axes[0, i].set_title(f\"θ = {i}\")\n",
    "\n",
    "    # Fila inferior\n",
    "    axes[1, i].imshow(corr_coefs[i], cmap='gray')\n",
    "    axes[1, i].axis('off')\n",
    "\n",
    "plt.tight_layout()\n",
    "plt.show()\n"
   ]
  },
  {
   "cell_type": "code",
   "execution_count": null,
   "id": "ccff2496",
   "metadata": {},
   "outputs": [],
   "source": [
    "def rician_noise(img,noise_percent):\n",
    "    sigma =(noise_percent/100)*img.max().item()\n",
    "    noise1 = np.random.normal(0,sigma,img.shape)\n",
    "    noise2 = np.random.normal(0,sigma,img.shape)\n",
    "    noisy_img = np.sqrt((img+noise1)**2+noise2**2)\n",
    "    return noisy_img"
   ]
  },
  {
   "cell_type": "code",
   "execution_count": null,
   "id": "e327391e",
   "metadata": {},
   "outputs": [],
   "source": [
    "corr_rici_img=np.zeros(img.shape)\n",
    "psnr_rici=np.zeros(img.shape[0])\n",
    "clean_img= img+0.5\n",
    "for i in range(len(img)):\n",
    "    corr_rici_img[i]= rician_noise(clean_img[i],11)\n",
    "    psnr_rici[i]=10*np.log10(1/np.mean((clean_img[i]-corr_rici_img[i])**2))\n",
    "print(psnr_rici.mean())\n",
    "    "
   ]
  },
  {
   "cell_type": "code",
   "execution_count": null,
   "id": "7c230445",
   "metadata": {},
   "outputs": [],
   "source": [
    "plt.imshow(corr_rici_img[50],cmap='gray')\n",
    "plt.axis(\"off\")\n",
    "plt.show"
   ]
  },
  {
   "cell_type": "code",
   "execution_count": null,
   "id": "875c8e9a",
   "metadata": {},
   "outputs": [],
   "source": [
    "plt.imshow(img[50],cmap='gray')\n",
    "plt.axis(\"off\")\n",
    "plt.show"
   ]
  },
  {
   "cell_type": "code",
   "execution_count": null,
   "id": "d6027601",
   "metadata": {},
   "outputs": [],
   "source": [
    "plt.imshow(bern_mask,cmap='gray')\n",
    "plt.axis(\"off\")\n",
    "plt.show()"
   ]
  },
  {
   "cell_type": "code",
   "execution_count": null,
   "id": "bdb11d43",
   "metadata": {},
   "outputs": [],
   "source": [
    "plt.imshow(corr_mask[50],cmap='gray')\n",
    "plt.axis(\"off\")\n",
    "plt.show"
   ]
  },
  {
   "cell_type": "code",
   "execution_count": null,
   "id": "2e5511c8",
   "metadata": {},
   "outputs": [],
   "source": [
    "plt.imshow(np.log(np.abs(corr_val[50])+1),cmap='gray')\n",
    "plt.axis(\"off\")\n",
    "plt.show"
   ]
  },
  {
   "cell_type": "code",
   "execution_count": null,
   "id": "9ac49552",
   "metadata": {},
   "outputs": [],
   "source": [
    "plt.imshow(np.log(np.abs(spec[50])+1),cmap='gray')\n",
    "plt.axis(\"off\")\n",
    "plt.show"
   ]
  },
  {
   "cell_type": "code",
   "execution_count": null,
   "id": "a150800b",
   "metadata": {},
   "outputs": [],
   "source": [
    "def psnr(mse):\n",
    "    return 10*np.log10(1/mse)\n"
   ]
  }
 ],
 "metadata": {
  "kernelspec": {
   "display_name": "Python 3",
   "language": "python",
   "name": "python3"
  },
  "language_info": {
   "codemirror_mode": {
    "name": "ipython",
    "version": 3
   },
   "file_extension": ".py",
   "mimetype": "text/x-python",
   "name": "python",
   "nbconvert_exporter": "python",
   "pygments_lexer": "ipython3",
   "version": "3.13.2"
  }
 },
 "nbformat": 4,
 "nbformat_minor": 5
}
